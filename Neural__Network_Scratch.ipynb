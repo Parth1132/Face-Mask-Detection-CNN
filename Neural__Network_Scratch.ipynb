{
  "nbformat": 4,
  "nbformat_minor": 0,
  "metadata": {
    "colab": {
      "provenance": [],
      "authorship_tag": "ABX9TyOg7MLn/G4jkQQakrlGycNS",
      "include_colab_link": true
    },
    "kernelspec": {
      "name": "python3",
      "display_name": "Python 3"
    },
    "language_info": {
      "name": "python"
    }
  },
  "cells": [
    {
      "cell_type": "markdown",
      "metadata": {
        "id": "view-in-github",
        "colab_type": "text"
      },
      "source": [
        "<a href=\"https://colab.research.google.com/github/Parth1132/Face-Mask-Detection-CNN/blob/main/Neural__Network_Scratch.ipynb\" target=\"_parent\"><img src=\"https://colab.research.google.com/assets/colab-badge.svg\" alt=\"Open In Colab\"/></a>"
      ]
    },
    {
      "cell_type": "code",
      "execution_count": 13,
      "metadata": {
        "colab": {
          "base_uri": "https://localhost:8080/"
        },
        "id": "ty-9bGja-XzI",
        "outputId": "05b3a89e-0359-40bb-8626-1ce384925211"
      },
      "outputs": [
        {
          "output_type": "stream",
          "name": "stdout",
          "text": [
            "Random starting synatptic weights:\n",
            "[[-0.16595599]\n",
            " [ 0.44064899]\n",
            " [-0.99977125]]\n",
            "Synaptic weights after training\n",
            "[[ 0.11579503]\n",
            " [-0.20161256]\n",
            " [-0.17264105]]\n",
            "Output after training:\n",
            "[[0.60183963]\n",
            " [0.62824821]\n",
            " [0.81099342]\n",
            " [0.60183963]]\n"
          ]
        }
      ],
      "source": [
        "import numpy as np\n",
        "\n",
        "def sigmoid(x):\n",
        "  return 1/(1*np.exp(-x))\n",
        "\n",
        "def sigmoid_derivative(x):\n",
        "  return x * (1-x)\n",
        "\n",
        "training_inputs = np.array([[0,1,1],\n",
        "                            [1,1,1],\n",
        "                            [1,0,1],\n",
        "                            [0,1,1],\n",
        "                            ])\n",
        "training_output = np.array([[0,1,1,0]]).T\n",
        "\n",
        "np.random.seed(1)\n",
        "\n",
        "synaptic_weights = 2 * np.random.random((3,1)) - 1\n",
        "\n",
        "print('Random starting synatptic weights:')\n",
        "print(synaptic_weights)\n",
        "\n",
        "for iteration in range(1000):\n",
        "\n",
        "  input_layer = training_inputs\n",
        "\n",
        "  outputs = sigmoid(np.dot(input_layer, synaptic_weights))\n",
        "\n",
        "  error = training_output - outputs\n",
        "\n",
        "  adjustments = error * sigmoid_derivative(outputs)\n",
        "\n",
        "  synaptic_weights = np.dot(input_layer.T, adjustments)\n",
        "\n",
        "print('Synaptic weights after training')\n",
        "print(synaptic_weights)\n",
        "\n",
        "print('Output after training:')\n",
        "print(outputs)\n",
        "\n",
        "\n",
        "\n",
        "\n",
        "\n"
      ]
    },
    {
      "cell_type": "markdown",
      "source": [
        "**[[]] (Nested Square Brackets):**\n",
        "\n",
        "1.Represents a list containing one or more sublists.\n",
        "\n",
        "\n",
        "2.When used to represent a matrix, [[]] denotes a two-dimensional matrix where each sublist represents a row or column of the matrix.\n",
        "\n",
        "\n",
        "**Example**: matrix = [[]] would represent a matrix with one row (empty row) and zero columns.\n",
        "\n",
        "**Important**\n",
        "\n",
        "1.np.dot(input_layer, synaptic_weights) performs matrix multiplication between the input_layer and synaptic_weights, resulting in a weighted sum of the inputs.\n",
        "\n",
        "2.The sigmoid() function applies the sigmoid activation function element-wise to the result of the dot product.\n",
        "\n",
        "\n"
      ],
      "metadata": {
        "id": "-cdvm-SXAWGd"
      }
    }
  ]
}